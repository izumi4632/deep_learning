{
 "cells": [
  {
   "cell_type": "code",
   "execution_count": 1,
   "metadata": {},
   "outputs": [
    {
     "data": {
      "text/plain": [
       "1×2 Matrix{Float64}:\n",
       " 0.316827  0.696279"
      ]
     },
     "execution_count": 1,
     "metadata": {},
     "output_type": "execute_result"
    }
   ],
   "source": [
    "sigmoid(x) = 1 / (1 + exp(-x))\n",
    "identity_function(x) = x\n",
    "x  = [1 0.5]\n",
    "w1 = [0.1 0.3 0.5; 0.2 0.4 0.6]\n",
    "b1 = [0.1 0.2 0.3]\n",
    "w2 = [0.1 0.4; 0.2 0.5; 0.3 0.6]\n",
    "b2 = [0.1 0.2]\n",
    "w3 = [0.1 0.3; 0.2 0.4]\n",
    "b3 = [0.1 0.2]\n",
    "z1 = sigmoid.(x * w1 .+ b1)\n",
    "z2 = sigmoid.(z1 * w2 .+ b2)\n",
    "y  = identity_function.(z2 * w3 .+ b3)"
   ]
  },
  {
   "cell_type": "code",
   "execution_count": null,
   "metadata": {},
   "outputs": [],
   "source": []
  }
 ],
 "metadata": {
  "kernelspec": {
   "display_name": "Julia 1.8.0-rc1",
   "language": "julia",
   "name": "julia-1.8"
  },
  "language_info": {
   "name": "julia"
  },
  "orig_nbformat": 4
 },
 "nbformat": 4,
 "nbformat_minor": 2
}
