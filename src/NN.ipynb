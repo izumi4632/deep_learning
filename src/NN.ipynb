{
 "cells": [
  {
   "cell_type": "code",
   "execution_count": 1,
   "metadata": {},
   "outputs": [],
   "source": [
    "import numpy as np\n",
    "import matplotlib.pylab as plt\n",
    "from functions import *\n",
    "import sys, os\n",
    "sys.path.append(os.pardir)\n",
    "from collections import OrderedDict"
   ]
  },
  {
   "cell_type": "code",
   "execution_count": 2,
   "metadata": {},
   "outputs": [],
   "source": [
    "class Relu:\n",
    "    def __init__(self):\n",
    "        self.mask = None\n",
    "    def forward(self, x):\n",
    "        self.mask = (x <= 0)\n",
    "        out = x.copy()\n",
    "        out[self.mask] = 0\n",
    "        return out\n",
    "    def backward(self, dout):\n",
    "        dout[self.mask] = 0\n",
    "        return dout\n",
    "class Sigmoid:\n",
    "    def __init__(self):\n",
    "        self.out = None\n",
    "    def forward(self, x):\n",
    "        self.out = 1 / (1 + np.exp(-x))\n",
    "        return self.out\n",
    "    def backward(self, dout):\n",
    "        return dout * (1.0 - self.out) * self.out\n",
    "class Affine:\n",
    "    def __init__(self, W, b):\n",
    "        self.W  = W\n",
    "        self.b  = b\n",
    "        self.x  = self.dW = self.db = None\n",
    "    def forward(self, x):\n",
    "        self.x = x\n",
    "        return np.dot(x, self.W) + self.b\n",
    "    def backward(self, dout):\n",
    "        self.dW = np.dot(self.x.T, dout)\n",
    "        self.db = np.sum(dout, axis=0)\n",
    "        return np.dot(dout, self.W.T)\n",
    "class SoftmaxWithLoss:\n",
    "    def __init__(self):\n",
    "        self.loss = self.y = self.t = None\n",
    "    def forward(self, x, t):\n",
    "        self.t    = t\n",
    "        self.y    = softmax(x)\n",
    "        self.loss = cross_entropy_error(self.y, self.t)\n",
    "        return self.loss\n",
    "    def backward(self, dout=1):\n",
    "        batch_size = self.t.shape[0]\n",
    "        if self.t.size == self.y.size: # 教師データがone-hot-vectorの場合\n",
    "            return (self.y - self.t) / batch_size\n",
    "        else:\n",
    "            dx = self.y.copy()\n",
    "            dx[np.arange(batch_size), self.t] -= 1\n",
    "            return dx / batch_size\n",
    "class Dropout:\n",
    "    def __init__(self, dropout_ratio=0.5):\n",
    "        self.dropout_ratio = dropout_ratio\n",
    "        self.mask          = None\n",
    "\n",
    "    def forward(self, x, train_flg=True):\n",
    "        if train_flg:\n",
    "            self.mask = np.random.rand(*x.shape) > self.dropout_ratio\n",
    "            return x * self.mask\n",
    "        else:\n",
    "            return x * (1.0 - self.dropout_ratio)\n",
    "\n",
    "    def backward(self, dout):\n",
    "        return dout * self.mask"
   ]
  },
  {
   "cell_type": "code",
   "execution_count": 3,
   "metadata": {},
   "outputs": [],
   "source": [
    "class MultiLayerNet:\n",
    "    def __init__(self, input_size, hidden_size_list, output_size, weight_init_std=0.01, weight_decay_lambda=0.1, dropout_ration = 0.5):\n",
    "        self.layer_num  = len(hidden_size_list)\n",
    "        layer_size_list = [input_size] + hidden_size_list + [output_size]\n",
    "        self.params = {}\n",
    "        for idx in range(1, self.layer_num +2):\n",
    "            self.params['W' + str(idx)] = weight_init_std * np.random.randn(layer_size_list[idx-1], layer_size_list[idx])\n",
    "            self.params['b' + str(idx)] = np.zeros(layer_size_list[idx])\n",
    "        self.layers = OrderedDict()\n",
    "        for i in range(1, self.layer_num + 1):\n",
    "            si                         = str(i)\n",
    "            self.layers['Affine'  + si] = Affine(self.params['W' + si], self.params['b' + si])\n",
    "            self.layers['Relu'    + si] = Relu()\n",
    "            if dropout_ration != 0:\n",
    "                self.layers['Dropout' + si] = Dropout(dropout_ration)\n",
    "        self.lastLayer           = SoftmaxWithLoss()\n",
    "        self.weight_decay_lambda = weight_decay_lambda\n",
    "    # 推定\n",
    "    def predict(self, x, train_flg=False):\n",
    "        for key, layer in self.layers.items():\n",
    "            if \"Dropout\" in key:\n",
    "                x = layer.forward(x, train_flg)\n",
    "            else:\n",
    "                x = layer.forward(x)\n",
    "\n",
    "        return x\n",
    "    # 損失算出\n",
    "    def loss(self, x, t, train_flg=False):\n",
    "        y = self.predict(x, train_flg)\n",
    "        L2_norm = np.sqrt(sum([0.5 * self.weight_decay_lambda * np.sum(self.params['W' + str(idx)] ** 2) for idx in range(1, self.layer_num+1)]))\n",
    "        return self.lastLayer.forward(y, t) + L2_norm\n",
    "    # accuracy算出\n",
    "    def accuracy(self, x, t):\n",
    "        y = self.predict(x)\n",
    "        y = np.argmax(y, axis=1)\n",
    "        if t.ndim != 1 : t = np.argmax(t, axis=1)\n",
    "        accuracy = np.sum(y == t) / float(x.shape[0])\n",
    "        return accuracy\n",
    "    # 解析的微分（誤差逆伝播）\n",
    "    def gradient(self, x, t):\n",
    "        # 順伝播\n",
    "        self.loss(x, t, train_flg=True)\n",
    "        # 逆伝播\n",
    "        dout   = 1\n",
    "        dout   = self.lastLayer.backward(dout)\n",
    "        layers = list(self.layers.values())\n",
    "        layers.reverse()\n",
    "        for layer in layers:\n",
    "            dout = layer.backward(dout)\n",
    "        # 勾配\n",
    "        grads       = {}\n",
    "        for i in range(1, self.layer_num + 1):\n",
    "            si = str(i)\n",
    "            self.params['W' + si] -= learning_rate * self.layers['Affine' + si].dW\n",
    "            self.params['b' + si] -= learning_rate * self.layers['Affine' + si].db\n",
    "            self.layers['Affine' + si] = Affine(self.params['W' + si], self.params['b' + si])\n",
    "            self.layers['Relu'   + si] = Relu()\n",
    "        return 0"
   ]
  },
  {
   "cell_type": "code",
   "execution_count": 4,
   "metadata": {},
   "outputs": [
    {
     "name": "stdout",
     "output_type": "stream",
     "text": [
      "Downloading train-images-idx3-ubyte.gz ... \n",
      "Done\n",
      "Downloading train-labels-idx1-ubyte.gz ... \n",
      "Done\n",
      "Downloading t10k-images-idx3-ubyte.gz ... \n",
      "Done\n",
      "Downloading t10k-labels-idx1-ubyte.gz ... \n",
      "Done\n",
      "Converting train-images-idx3-ubyte.gz to NumPy Array ...\n",
      "Done\n",
      "Converting train-labels-idx1-ubyte.gz to NumPy Array ...\n",
      "Done\n",
      "Converting t10k-images-idx3-ubyte.gz to NumPy Array ...\n",
      "Done\n",
      "Converting t10k-labels-idx1-ubyte.gz to NumPy Array ...\n",
      "Done\n",
      "Creating pickle file ...\n",
      "Done!\n"
     ]
    },
    {
     "data": {
      "image/png": "[encoded data removed]",
      "text/plain": [
       "<Figure size 432x288 with 1 Axes>"
      ]
     },
     "metadata": {
      "needs_background": "light"
     },
     "output_type": "display_data"
    }
   ],
   "source": [
    "import sys, os\n",
    "sys.path.append(os.pardir)\n",
    "import numpy as np\n",
    "from mnist import load_mnist\n",
    "# データの読み込み\n",
    "(x_train, t_train), (x_test, t_test) = load_mnist(normalize=True)\n",
    "# 過学習を再現するために、学習データを削減\n",
    "x_train = x_train[:1000]\n",
    "t_train = t_train[:1000]\n",
    "network         = MultiLayerNet(input_size=784, hidden_size_list=[50, 50], output_size=10, weight_init_std=0.01, weight_decay_lambda=0.2, dropout_ration=0)\n",
    "train_size      = x_train.shape[0]\n",
    "batch_size      = 100\n",
    "epoch           = 100\n",
    "learning_rate   = 0.1\n",
    "train_loss_list = []\n",
    "iter_per_epoch  = max(train_size / batch_size, 1)\n",
    "iters_num       = int(train_size / batch_size * epoch)\n",
    "train_acc_list  = np.zeros(epoch)\n",
    "test_acc_list   = np.zeros(epoch)\n",
    "for i in range(iters_num):\n",
    "    batch_mask = np.random.choice(train_size, batch_size)\n",
    "    x_batch = x_train[batch_mask]\n",
    "    t_batch = t_train[batch_mask]\n",
    "    network.gradient(x_batch, t_batch)\n",
    "    if i % iter_per_epoch == 0:\n",
    "        train_acc = network.accuracy(x_train, t_train)\n",
    "        test_acc = network.accuracy(x_test, t_test)\n",
    "        train_acc_list[int(i // iter_per_epoch)] = train_acc\n",
    "        test_acc_list[int(i // iter_per_epoch)]  = test_acc\n",
    "x = np.arange(epoch)\n",
    "plt.plot(x, train_acc_list, marker='o', label='train', markevery=1)\n",
    "plt.plot(x, test_acc_list, marker='s', label='test', markevery=1)\n",
    "plt.xlabel(\"epochs\")\n",
    "plt.ylabel(\"accuracy\")\n",
    "plt.title(\"no drop out\")\n",
    "plt.ylim(0, 1.0)\n",
    "plt.legend(loc='lower right')\n",
    "plt.show()"
   ]
  },
  {
   "cell_type": "code",
   "execution_count": 5,
   "metadata": {},
   "outputs": [
    {
     "data": {
      "image/png": "[encoded data removed]",
      "text/plain": [
       "<Figure size 432x288 with 1 Axes>"
      ]
     },
     "metadata": {
      "needs_background": "light"
     },
     "output_type": "display_data"
    }
   ],
   "source": [
    "import sys, os\n",
    "sys.path.append(os.pardir)\n",
    "import numpy as np\n",
    "from mnist import load_mnist\n",
    "# データの読み込み\n",
    "(x_train, t_train), (x_test, t_test) = load_mnist(normalize=True)\n",
    "# 過学習を再現するために、学習データを削減\n",
    "x_train = x_train[:1000]\n",
    "t_train = t_train[:1000]\n",
    "network         = MultiLayerNet(input_size=784, hidden_size_list=[50, 50], output_size=10, weight_init_std=0.01, weight_decay_lambda=0.2, dropout_ration=0.5)\n",
    "train_size      = x_train.shape[0]\n",
    "batch_size      = 100\n",
    "epoch           = 200\n",
    "learning_rate   = 0.1\n",
    "train_loss_list = []\n",
    "iter_per_epoch  = max(train_size / batch_size, 1)\n",
    "iters_num       = int(train_size / batch_size * epoch)\n",
    "train_acc_list  = np.zeros(epoch)\n",
    "test_acc_list   = np.zeros(epoch)\n",
    "for i in range(iters_num):\n",
    "    batch_mask = np.random.choice(train_size, batch_size)\n",
    "    x_batch = x_train[batch_mask]\n",
    "    t_batch = t_train[batch_mask]\n",
    "    network.gradient(x_batch, t_batch)\n",
    "    if i % iter_per_epoch == 0:\n",
    "        train_acc = network.accuracy(x_train, t_train)\n",
    "        test_acc = network.accuracy(x_test, t_test)\n",
    "        train_acc_list[int(i // iter_per_epoch)] = train_acc\n",
    "        test_acc_list[int(i // iter_per_epoch)]  = test_acc\n",
    "x = np.arange(epoch)\n",
    "plt.plot(x, train_acc_list, marker='o', label='train', markevery=1)\n",
    "plt.plot(x, test_acc_list, marker='s', label='test', markevery=1)\n",
    "plt.xlabel(\"epochs\")\n",
    "plt.ylabel(\"accuracy\")\n",
    "plt.title(\"0.5 drop out\")\n",
    "plt.ylim(0, 1.0)\n",
    "plt.legend(loc='lower right')\n",
    "plt.show()"
   ]
  },
  {
   "cell_type": "code",
   "execution_count": 8,
   "metadata": {},
   "outputs": [
    {
     "data": {
      "image/png": "[encoded data removed]",
      "text/plain": [
       "<Figure size 432x288 with 1 Axes>"
      ]
     },
     "metadata": {
      "needs_background": "light"
     },
     "output_type": "display_data"
    }
   ],
   "source": [
    "import sys, os\n",
    "sys.path.append(os.pardir)\n",
    "import numpy as np\n",
    "from mnist import load_mnist\n",
    "# データの読み込み\n",
    "(x_train, t_train), (x_test, t_test) = load_mnist(normalize=True)\n",
    "# 過学習を再現するために、学習データを削減\n",
    "x_train = x_train\n",
    "t_train = t_train\n",
    "network         = MultiLayerNet(input_size=784, hidden_size_list=[50, 50], output_size=10, weight_init_std=0.01, weight_decay_lambda=0.2, dropout_ration=0.2)\n",
    "train_size      = x_train.shape[0]\n",
    "batch_size      = 100\n",
    "epoch           = 20\n",
    "learning_rate   = 0.1\n",
    "train_loss_list = []\n",
    "iter_per_epoch  = max(train_size / batch_size, 1)\n",
    "iters_num       = int(train_size / batch_size * epoch)\n",
    "train_acc_list  = np.zeros(epoch)\n",
    "test_acc_list   = np.zeros(epoch)\n",
    "for i in range(iters_num):\n",
    "    batch_mask = np.random.choice(train_size, batch_size)\n",
    "    x_batch = x_train[batch_mask]\n",
    "    t_batch = t_train[batch_mask]\n",
    "    network.gradient(x_batch, t_batch)\n",
    "    if i % iter_per_epoch == 0:\n",
    "        train_acc = network.accuracy(x_train, t_train)\n",
    "        test_acc = network.accuracy(x_test, t_test)\n",
    "        train_acc_list[int(i // iter_per_epoch)] = train_acc\n",
    "        test_acc_list[int(i // iter_per_epoch)]  = test_acc\n",
    "x = np.arange(epoch)\n",
    "plt.plot(x, train_acc_list, marker='o', label='train', markevery=1)\n",
    "plt.plot(x, test_acc_list, marker='s', label='test', markevery=1)\n",
    "plt.xlabel(\"epochs\")\n",
    "plt.ylabel(\"accuracy\")\n",
    "plt.title(\"0.2 drop out all data\")\n",
    "plt.ylim(0, 1.0)\n",
    "plt.legend(loc='lower right')\n",
    "plt.show()"
   ]
  },
  {
   "cell_type": "code",
   "execution_count": 10,
   "metadata": {},
   "outputs": [
    {
     "name": "stdout",
     "output_type": "stream",
     "text": [
      "0.963\n"
     ]
    }
   ],
   "source": [
    "print(test_acc_list[-1])"
   ]
  },
  {
   "cell_type": "code",
   "execution_count": null,
   "metadata": {},
   "outputs": [],
   "source": []
  }
 ],
 "metadata": {
  "kernelspec": {
   "display_name": "Python 3.8.5",
   "language": "python",
   "name": "python3"
  },
  "language_info": {
   "codemirror_mode": {
    "name": "ipython",
    "version": 3
   },
   "file_extension": ".py",
   "mimetype": "text/x-python",
   "name": "python",
   "nbconvert_exporter": "python",
   "pygments_lexer": "ipython3",
   "version": "3.8.5"
  },
  "vscode": {
   "interpreter": {
    "hash": "483289df4ff27e7859b0237283bb227fa53eed2ed33d4bc159fe0da03dc232f7"
   }
  }
 },
 "nbformat": 4,
 "nbformat_minor": 4
}
