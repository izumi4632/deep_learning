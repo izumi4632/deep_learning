{
 "cells": [
  {
   "cell_type": "code",
   "execution_count": 1,
   "metadata": {
    "collapsed": false,
    "pycharm": {
     "name": "#%%\n"
    }
   },
   "outputs": [],
   "source": [
    "from math import e\n",
    "list_map_2d       = lambda f: lambda x: list(map(lambda y: list(map(f, y)), x))\n",
    "identity_function = list_map_2d(lambda x: x)\n",
    "sigmoid           = list_map_2d(lambda z: 1.0 / (1.0 + e**(-z)))\n",
    "step_function     = list_map_2d(lambda t:1 if t > 0 else 0)\n",
    "relu              = list_map_2d(lambda t: t if t > 0 else 0)\n",
    "dot               = lambda x, y: [[sum([x[i][k] * y[k][j] for k in range(len(x[0]))]) for j in range(len(y[0]))] for i in range(len(x))]\n",
    "matlix_sum        = lambda x, y: [[x_i_j + y_i_j for x_i_j, y_i_j in zip(x_i, y_i)] for x_i, y_i in zip(x, y)]"
   ]
  },
  {
   "cell_type": "code",
   "execution_count": 2,
   "metadata": {
    "collapsed": false,
    "pycharm": {
     "name": "#%%\n"
    }
   },
   "outputs": [
    {
     "name": "stdout",
     "output_type": "stream",
     "text": [
      "A1 =  [[0.30000000000000004, 0.7, 1.1]]\n",
      "Z1 =  [[0.574442516811659, 0.668187772168166, 0.7502601055951177]]\n",
      "A2 =  [[0.5161598377933344, 1.214026956165817]]\n",
      "Z2 =  [[0.6262493703990729, 0.7710106968556122]]\n",
      "A3 =  [[0.31682707641102975, 0.6962790898619668]]\n",
      "Y =  [[0.31682707641102975, 0.6962790898619668]]\n"
     ]
    }
   ],
   "source": [
    "# 教科書の数字で確認\n",
    "x = [[1., .5]]\n",
    "w1 = [[.1, .3, .5], [.2, .4, .6]]\n",
    "b1 = [[.1, .2, .3]]\n",
    "w2 = [[.1, .4], [.2, .5], [.3, .6]]\n",
    "b2 = [[.1, .2]]\n",
    "w3 = [[.1, .3], [.2, .4]]\n",
    "b3 = [[.1, .2]]\n",
    "a1 = matlix_sum(dot(x, w1), b1)\n",
    "print(\"A1 = \", a1)\n",
    "z1 = sigmoid(a1)\n",
    "print(\"Z1 = \", z1)\n",
    "a2 = matlix_sum(dot(z1, w2), b2)\n",
    "print(\"A2 = \", a2)\n",
    "z2 = sigmoid(a2)\n",
    "print(\"Z2 = \", z2)\n",
    "a3 = matlix_sum(dot(z2, w3), b3)\n",
    "print(\"A3 = \", a3)\n",
    "y = identity_function(a3)\n",
    "print(\"Y = \", y)"
   ]
  },
  {
   "cell_type": "code",
   "execution_count": null,
   "metadata": {},
   "outputs": [],
   "source": []
  }
 ],
 "metadata": {
  "interpreter": {
   "hash": "483289df4ff27e7859b0237283bb227fa53eed2ed33d4bc159fe0da03dc232f7"
  },
  "kernelspec": {
   "display_name": "Python 3.8.5",
   "language": "python",
   "name": "python3"
  },
  "language_info": {
   "codemirror_mode": {
    "name": "ipython",
    "version": 3
   },
   "file_extension": ".py",
   "mimetype": "text/x-python",
   "name": "python",
   "nbconvert_exporter": "python",
   "pygments_lexer": "ipython3",
   "version": "3.8.5"
  }
 },
 "nbformat": 4,
 "nbformat_minor": 0
}
